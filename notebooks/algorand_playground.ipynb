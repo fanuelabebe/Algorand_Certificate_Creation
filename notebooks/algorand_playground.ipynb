{
 "cells": [
  {
   "cell_type": "code",
   "execution_count": 3,
   "id": "bdba1531",
   "metadata": {
    "scrolled": true
   },
   "outputs": [
    {
     "name": "stdout",
     "output_type": "stream",
     "text": [
      "Defaulting to user installation because normal site-packages is not writeable\n",
      "Collecting py-algorand-sdk\n",
      "  Downloading py_algorand_sdk-2.5.0-py3-none-any.whl (111 kB)\n",
      "\u001b[2K     \u001b[38;2;114;156;31m━━━━━━━━━━━━━━━━━━━━━━━━━━━━━━━━━━━━━\u001b[0m \u001b[32m111.8/111.8 KB\u001b[0m \u001b[31m457.3 kB/s\u001b[0m eta \u001b[36m0:00:00\u001b[0m1m448.2 kB/s\u001b[0m eta \u001b[36m0:00:01\u001b[0m\n",
      "\u001b[?25hCollecting pycryptodomex<4,>=3.6.0\n",
      "  Downloading pycryptodomex-3.20.0-cp35-abi3-manylinux_2_17_x86_64.manylinux2014_x86_64.whl (2.1 MB)\n",
      "\u001b[2K     \u001b[38;2;114;156;31m━━━━━━━━━━━━━━━━━━━━━━━━━━━━━━━━━━━━━━━━\u001b[0m \u001b[32m2.1/2.1 MB\u001b[0m \u001b[31m1.6 MB/s\u001b[0m eta \u001b[36m0:00:00\u001b[0mm eta \u001b[36m0:00:01\u001b[0m0:01\u001b[0m:01\u001b[0m\n",
      "\u001b[?25hRequirement already satisfied: msgpack<2,>=1.0.0 in /usr/lib/python3/dist-packages (from py-algorand-sdk) (1.0.3)\n",
      "Requirement already satisfied: pynacl<2,>=1.4.0 in /usr/lib/python3/dist-packages (from py-algorand-sdk) (1.5.0)\n",
      "Collecting cffi>=1.4.1\n",
      "  Downloading cffi-1.16.0-cp310-cp310-manylinux_2_17_x86_64.manylinux2014_x86_64.whl (443 kB)\n",
      "\u001b[2K     \u001b[38;2;114;156;31m━━━━━━━━━━━━━━━━━━━━━━━━━━━━━━━━━━━━━━━\u001b[0m \u001b[32m443.9/443.9 KB\u001b[0m \u001b[31m2.3 MB/s\u001b[0m eta \u001b[36m0:00:00\u001b[0mm eta \u001b[36m0:00:01\u001b[0m[36m0:00:01\u001b[0m\n",
      "\u001b[?25hCollecting pycparser\n",
      "  Downloading pycparser-2.21-py2.py3-none-any.whl (118 kB)\n",
      "\u001b[2K     \u001b[38;2;114;156;31m━━━━━━━━━━━━━━━━━━━━━━━━━━━━━━━━━━━━━━━\u001b[0m \u001b[32m118.7/118.7 KB\u001b[0m \u001b[31m2.3 MB/s\u001b[0m eta \u001b[36m0:00:00\u001b[0m MB/s\u001b[0m eta \u001b[36m0:00:01\u001b[0m\n",
      "\u001b[?25hInstalling collected packages: pycryptodomex, pycparser, cffi, py-algorand-sdk\n",
      "Successfully installed cffi-1.16.0 py-algorand-sdk-2.5.0 pycparser-2.21 pycryptodomex-3.20.0\n"
     ]
    }
   ],
   "source": [
    "import sys\n",
    "!{sys.executable} -m pip install py-algorand-sdk"
   ]
  },
  {
   "cell_type": "code",
   "execution_count": 2,
   "id": "3e0495df",
   "metadata": {},
   "outputs": [],
   "source": [
    "from algosdk import account, mnemonic\n",
    "from algosdk import transaction"
   ]
  },
  {
   "cell_type": "markdown",
   "id": "bc10a1be",
   "metadata": {},
   "source": [
    "# Create Account"
   ]
  },
  {
   "cell_type": "markdown",
   "id": "25f446a1",
   "metadata": {},
   "source": [
    "## Account 1"
   ]
  },
  {
   "cell_type": "code",
   "execution_count": 3,
   "id": "f25212b3",
   "metadata": {
    "scrolled": true
   },
   "outputs": [
    {
     "name": "stdout",
     "output_type": "stream",
     "text": [
      "address: JEXLOIOFTCDGK5HIS5PNZVYXJ35VA2ATDYQSCFJVCDF3AIJW4MXVANIYOQ\n",
      "private key: 0cDn4IGErCj6qXqLgQBHFBd3mOR1jLq0agHUCpoa+uJJLrchxZiGZXTol17c1xdO+1BoEx4hIRU1EMuwITbjLw==\n",
      "mnemonic: boss pair vacant elite flip mechanic exist kingdom cousin acoustic castle image until champion quality midnight nuclear print absent pull cross mammal blind abstract client\n"
     ]
    }
   ],
   "source": [
    "private_key, address = account.generate_account()\n",
    "print(f\"address: {address}\")\n",
    "print(f\"private key: {private_key}\")\n",
    "print(f\"mnemonic: {mnemonic.from_private_key(private_key)}\")"
   ]
  },
  {
   "cell_type": "markdown",
   "id": "9a95955a",
   "metadata": {},
   "source": [
    "## Account 2"
   ]
  },
  {
   "cell_type": "code",
   "execution_count": 12,
   "id": "7bbae103",
   "metadata": {},
   "outputs": [
    {
     "name": "stdout",
     "output_type": "stream",
     "text": [
      "address2: WDHH2DED4PQM4N63W2W67RGFO7XCE4X36RKNFVOYMN7DIPAGHLVYVO5BRI\n",
      "private key2: qOdX400Uj7ij+jV1x1g8H2YM1VWUsf54hRa0yGV8PUewzn0Mg+Pgzjfbtq3vxMV37iJy+/RU0tXYY340PAY66w==\n",
      "mnemonic2: vital garbage vast dynamic bullet until steak curious upgrade glide owner giggle boat inspire pencil ranch cabin bicycle area mercy slide gallery delay able abstract\n"
     ]
    }
   ],
   "source": [
    "private_key2, address2 = account.generate_account()\n",
    "print(f\"address2: {address2}\")\n",
    "print(f\"private key2: {private_key2}\")\n",
    "print(f\"mnemonic2: {mnemonic.from_private_key(private_key2)}\")"
   ]
  },
  {
   "cell_type": "code",
   "execution_count": 9,
   "id": "b1e27719",
   "metadata": {},
   "outputs": [],
   "source": [
    "from utils import get_accounts, get_algod_client"
   ]
  },
  {
   "cell_type": "markdown",
   "id": "54a2d0be",
   "metadata": {},
   "source": [
    "# Connect to Client"
   ]
  },
  {
   "cell_type": "code",
   "execution_count": 7,
   "id": "2ef98445",
   "metadata": {},
   "outputs": [],
   "source": [
    "from algosdk.v2client import algod\n",
    "\n",
    "algod_address = \"http://localhost:4001\"\n",
    "algod_token = \"a\" * 64\n",
    "algod_client = algod.AlgodClient(algod_token, algod_address)\n",
    "\n",
    "# Or, if necessary, pass alternate headers\n",
    "\n",
    "# Create a new client with an alternate api key header\n",
    "special_algod_client = algod.AlgodClient(\n",
    "    \"\", algod_address, headers={\"X-API-Key\": algod_token}\n",
    ")"
   ]
  },
  {
   "cell_type": "code",
   "execution_count": 10,
   "id": "f6240e3d",
   "metadata": {},
   "outputs": [
    {
     "data": {
      "text/plain": [
       "'XAGM3TH46HGKMEHTZ6EQ33OHC6ZWKDWE5AIS4UFLZIRDIRJNVNXNABA3XQ'"
      ]
     },
     "execution_count": 10,
     "metadata": {},
     "output_type": "execute_result"
    }
   ],
   "source": [
    "algod_client = get_algod_client()\n",
    "accts = get_accounts()\n",
    "\n",
    "acct1 = accts.pop()\n",
    "private_key, address = acct1.private_key, acct1.address\n",
    "address"
   ]
  },
  {
   "cell_type": "code",
   "execution_count": 11,
   "id": "dfe8b14d",
   "metadata": {},
   "outputs": [
    {
     "data": {
      "text/plain": [
       "'LDTQ76VT6H6FEEVDX7BQQ3CCEG2B3KJ7PVXOV47UTR5MEECJQPHJ4T2KFI'"
      ]
     },
     "execution_count": 11,
     "metadata": {},
     "output_type": "execute_result"
    }
   ],
   "source": [
    "acct2 = accts.pop()\n",
    "address2 = acct2.address\n",
    "address2"
   ]
  },
  {
   "cell_type": "markdown",
   "id": "fee263b6",
   "metadata": {},
   "source": [
    "# Check Balance"
   ]
  },
  {
   "cell_type": "code",
   "execution_count": 17,
   "id": "8ba0cb94",
   "metadata": {},
   "outputs": [
    {
     "name": "stdout",
     "output_type": "stream",
     "text": [
      "Account balance: 1000000 microAlgos\n"
     ]
    }
   ],
   "source": [
    "from typing import Dict, Any\n",
    "\n",
    "account_info: Dict[str, Any] = algod_client.account_info(address2)\n",
    "print(f\"Account balance: {account_info.get('amount')} microAlgos\")"
   ]
  },
  {
   "cell_type": "markdown",
   "id": "3cfae9b9",
   "metadata": {},
   "source": [
    "# Make First Transaction"
   ]
  },
  {
   "cell_type": "code",
   "execution_count": 14,
   "id": "d2e7a707",
   "metadata": {},
   "outputs": [
    {
     "data": {
      "text/plain": [
       "<algosdk.transaction.PaymentTxn at 0x7fd218b521d0>"
      ]
     },
     "execution_count": 14,
     "metadata": {},
     "output_type": "execute_result"
    }
   ],
   "source": [
    "params = algod_client.suggested_params()\n",
    "unsigned_txn = transaction.PaymentTxn(\n",
    "    sender=address,\n",
    "    sp=params,\n",
    "    receiver=address2,\n",
    "    amt=1000000,\n",
    "    note=b\"Hello World\",\n",
    ")\n",
    "unsigned_txn"
   ]
  },
  {
   "cell_type": "markdown",
   "id": "f1557d49",
   "metadata": {},
   "source": [
    "# Sign Transaction"
   ]
  },
  {
   "cell_type": "code",
   "execution_count": 15,
   "id": "83ecc05a",
   "metadata": {},
   "outputs": [
    {
     "data": {
      "text/plain": [
       "<algosdk.transaction.SignedTransaction at 0x7fd218ae97e0>"
      ]
     },
     "execution_count": 15,
     "metadata": {},
     "output_type": "execute_result"
    }
   ],
   "source": [
    "# sign the transaction\n",
    "signed_txn = unsigned_txn.sign(private_key)\n",
    "signed_txn"
   ]
  },
  {
   "cell_type": "markdown",
   "id": "99cd98fb",
   "metadata": {},
   "source": [
    "# Submit the Transaction"
   ]
  },
  {
   "cell_type": "code",
   "execution_count": 16,
   "id": "9ac5693f",
   "metadata": {},
   "outputs": [
    {
     "name": "stdout",
     "output_type": "stream",
     "text": [
      "Successfully submitted transaction with txID: FVAB36ZGG5I3C4QBCSJZBS3D2W5W35V3C66IDWEEEFFTKF7LU2CA\n",
      "Transaction information: {\n",
      "    \"confirmed-round\": 1,\n",
      "    \"pool-error\": \"\",\n",
      "    \"txn\": {\n",
      "        \"sig\": \"cDzs9xxqqHgx5PViFwaOn9D6MlpZyTWYwwjA8xi2WcxR5i+FtGbq7eE/ndFthyaZrl9S1ousK4jtxQHeFzPiBA==\",\n",
      "        \"txn\": {\n",
      "            \"amt\": 1000000,\n",
      "            \"fee\": 1000,\n",
      "            \"gen\": \"sandnet-v1\",\n",
      "            \"gh\": \"1+gug8q0BheTJqq6UKA1Z6xmwB51BJ52F8OBfrMpWGw=\",\n",
      "            \"lv\": 1000,\n",
      "            \"note\": \"SGVsbG8gV29ybGQ=\",\n",
      "            \"rcv\": \"WDHH2DED4PQM4N63W2W67RGFO7XCE4X36RKNFVOYMN7DIPAGHLVYVO5BRI\",\n",
      "            \"snd\": \"XAGM3TH46HGKMEHTZ6EQ33OHC6ZWKDWE5AIS4UFLZIRDIRJNVNXNABA3XQ\",\n",
      "            \"type\": \"pay\"\n",
      "        }\n",
      "    }\n",
      "}\n",
      "Decoded note: b'Hello World'\n"
     ]
    }
   ],
   "source": [
    "import json\n",
    "from base64 import b64decode\n",
    "# submit the transaction and get back a transaction id\n",
    "txid = algod_client.send_transaction(signed_txn)\n",
    "print(\"Successfully submitted transaction with txID: {}\".format(txid))\n",
    "\n",
    "# wait for confirmation\n",
    "txn_result = transaction.wait_for_confirmation(algod_client, txid, 4)\n",
    "\n",
    "print(f\"Transaction information: {json.dumps(txn_result, indent=4)}\")\n",
    "print(f\"Decoded note: {b64decode(txn_result['txn']['txn']['note'])}\")"
   ]
  }
 ],
 "metadata": {
  "kernelspec": {
   "display_name": "Python 3 (ipykernel)",
   "language": "python",
   "name": "python3"
  },
  "language_info": {
   "codemirror_mode": {
    "name": "ipython",
    "version": 3
   },
   "file_extension": ".py",
   "mimetype": "text/x-python",
   "name": "python",
   "nbconvert_exporter": "python",
   "pygments_lexer": "ipython3",
   "version": "3.10.13"
  }
 },
 "nbformat": 4,
 "nbformat_minor": 5
}
