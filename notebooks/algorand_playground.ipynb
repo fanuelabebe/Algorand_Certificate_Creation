{
 "cells": [
  {
   "cell_type": "code",
   "execution_count": 3,
   "id": "bdba1531",
   "metadata": {
    "scrolled": true
   },
   "outputs": [
    {
     "name": "stdout",
     "output_type": "stream",
     "text": [
      "Defaulting to user installation because normal site-packages is not writeable\n",
      "Collecting py-algorand-sdk\n",
      "  Downloading py_algorand_sdk-2.5.0-py3-none-any.whl (111 kB)\n",
      "\u001b[2K     \u001b[38;2;114;156;31m━━━━━━━━━━━━━━━━━━━━━━━━━━━━━━━━━━━━━\u001b[0m \u001b[32m111.8/111.8 KB\u001b[0m \u001b[31m457.3 kB/s\u001b[0m eta \u001b[36m0:00:00\u001b[0m1m448.2 kB/s\u001b[0m eta \u001b[36m0:00:01\u001b[0m\n",
      "\u001b[?25hCollecting pycryptodomex<4,>=3.6.0\n",
      "  Downloading pycryptodomex-3.20.0-cp35-abi3-manylinux_2_17_x86_64.manylinux2014_x86_64.whl (2.1 MB)\n",
      "\u001b[2K     \u001b[38;2;114;156;31m━━━━━━━━━━━━━━━━━━━━━━━━━━━━━━━━━━━━━━━━\u001b[0m \u001b[32m2.1/2.1 MB\u001b[0m \u001b[31m1.6 MB/s\u001b[0m eta \u001b[36m0:00:00\u001b[0mm eta \u001b[36m0:00:01\u001b[0m0:01\u001b[0m:01\u001b[0m\n",
      "\u001b[?25hRequirement already satisfied: msgpack<2,>=1.0.0 in /usr/lib/python3/dist-packages (from py-algorand-sdk) (1.0.3)\n",
      "Requirement already satisfied: pynacl<2,>=1.4.0 in /usr/lib/python3/dist-packages (from py-algorand-sdk) (1.5.0)\n",
      "Collecting cffi>=1.4.1\n",
      "  Downloading cffi-1.16.0-cp310-cp310-manylinux_2_17_x86_64.manylinux2014_x86_64.whl (443 kB)\n",
      "\u001b[2K     \u001b[38;2;114;156;31m━━━━━━━━━━━━━━━━━━━━━━━━━━━━━━━━━━━━━━━\u001b[0m \u001b[32m443.9/443.9 KB\u001b[0m \u001b[31m2.3 MB/s\u001b[0m eta \u001b[36m0:00:00\u001b[0mm eta \u001b[36m0:00:01\u001b[0m[36m0:00:01\u001b[0m\n",
      "\u001b[?25hCollecting pycparser\n",
      "  Downloading pycparser-2.21-py2.py3-none-any.whl (118 kB)\n",
      "\u001b[2K     \u001b[38;2;114;156;31m━━━━━━━━━━━━━━━━━━━━━━━━━━━━━━━━━━━━━━━\u001b[0m \u001b[32m118.7/118.7 KB\u001b[0m \u001b[31m2.3 MB/s\u001b[0m eta \u001b[36m0:00:00\u001b[0m MB/s\u001b[0m eta \u001b[36m0:00:01\u001b[0m\n",
      "\u001b[?25hInstalling collected packages: pycryptodomex, pycparser, cffi, py-algorand-sdk\n",
      "Successfully installed cffi-1.16.0 py-algorand-sdk-2.5.0 pycparser-2.21 pycryptodomex-3.20.0\n"
     ]
    }
   ],
   "source": [
    "import sys\n",
    "!{sys.executable} -m pip install py-algorand-sdk"
   ]
  },
  {
   "cell_type": "code",
   "execution_count": 4,
   "id": "3e0495df",
   "metadata": {},
   "outputs": [],
   "source": [
    "from algosdk import account, mnemonic\n",
    "from algosdk import transaction"
   ]
  },
  {
   "cell_type": "markdown",
   "id": "bc10a1be",
   "metadata": {},
   "source": [
    "# Create Account"
   ]
  },
  {
   "cell_type": "markdown",
   "id": "25f446a1",
   "metadata": {},
   "source": [
    "## Account 1"
   ]
  },
  {
   "cell_type": "code",
   "execution_count": 47,
   "id": "f25212b3",
   "metadata": {
    "scrolled": true
   },
   "outputs": [
    {
     "name": "stdout",
     "output_type": "stream",
     "text": [
      "address: 2L64GNWDEEH5G5RN4G6OUADOJZJB3YX6WY2ROBGKTYGIJ3RCB7URUPNJ7I\n",
      "private key: jTjqQcLVN3mdyOfHarCPP6F46XItzvEHGTj3wVXnqvjS/cM2wyEP03Yt4bzqAG5OUh3i/rY1FwTKngyE7iIP6Q==\n",
      "mnemonic: balance pottery can found hurry furnace eager treat flight script sick become vanish ripple high soda wreck goat orchard buyer process right shed abstract record\n"
     ]
    }
   ],
   "source": [
    "private_key, address = account.generate_account()\n",
    "print(f\"address: {address}\")\n",
    "print(f\"private key: {private_key}\")\n",
    "print(f\"mnemonic: {mnemonic.from_private_key(private_key)}\")"
   ]
  },
  {
   "cell_type": "markdown",
   "id": "9a95955a",
   "metadata": {},
   "source": [
    "## Account 2"
   ]
  },
  {
   "cell_type": "code",
   "execution_count": 15,
   "id": "7bbae103",
   "metadata": {},
   "outputs": [
    {
     "name": "stdout",
     "output_type": "stream",
     "text": [
      "address2: ZP2QA3HVLBUEJKRW6N6WETSFQIFPA6IQUULH4MVUEB6ALAS43BTCTHK6YE\n",
      "private key2: Bm8UO77plDlFbh9z3c9FKz93csoo2TyCyIa/91JbPO3L9QBs9VhoRKo2831iTkWCCvB5EKUWfjK0IHwFglzYZg==\n",
      "mnemonic2: this faculty budget orbit clap example impulse buyer purpose disorder pepper verify unveil orient edge summer elegant capital sell know planet bitter hazard abstract cargo\n"
     ]
    }
   ],
   "source": [
    "private_key2, address2 = account.generate_account()\n",
    "print(f\"address2: {address2}\")\n",
    "print(f\"private key2: {private_key2}\")\n",
    "print(f\"mnemonic2: {mnemonic.from_private_key(private_key2)}\")"
   ]
  },
  {
   "cell_type": "code",
   "execution_count": 1,
   "id": "b1e27719",
   "metadata": {},
   "outputs": [],
   "source": [
    "from utils import get_accounts, get_algod_client"
   ]
  },
  {
   "cell_type": "markdown",
   "id": "54a2d0be",
   "metadata": {},
   "source": [
    "# Connect to Client"
   ]
  },
  {
   "cell_type": "code",
   "execution_count": 10,
   "id": "2ef98445",
   "metadata": {},
   "outputs": [],
   "source": [
    "from algosdk.v2client import algod\n",
    "\n",
    "algod_address = \"http://localhost:4001\"\n",
    "algod_token = \"a\" * 64\n",
    "algod_client = algod.AlgodClient(algod_token, algod_address)\n",
    "\n",
    "# Or, if necessary, pass alternate headers\n",
    "\n",
    "# Create a new client with an alternate api key header\n",
    "special_algod_client = algod.AlgodClient(\n",
    "    \"\", algod_address, headers={\"X-API-Key\": algod_token}\n",
    ")"
   ]
  },
  {
   "cell_type": "code",
   "execution_count": 10,
   "id": "f6240e3d",
   "metadata": {},
   "outputs": [
    {
     "data": {
      "text/plain": [
       "'3O3IITONCTC24X77YG5AHR4NGUT7VFYTMJIYYIAL7CKOS6S4FVQM6MWFDA'"
      ]
     },
     "execution_count": 10,
     "metadata": {},
     "output_type": "execute_result"
    }
   ],
   "source": [
    "algod_client = get_algod_client()\n",
    "accts = get_accounts()\n",
    "\n",
    "acct1 = accts.pop()\n",
    "private_key, address = acct1.private_key, acct1.address\n",
    "address"
   ]
  },
  {
   "cell_type": "code",
   "execution_count": 12,
   "id": "dfe8b14d",
   "metadata": {},
   "outputs": [
    {
     "data": {
      "text/plain": [
       "'A2243ENLO6PN4EAX3SM3K6KQ2OM66QUAP2Y4FSRY72TDVRQT6HWFK3X2NM'"
      ]
     },
     "execution_count": 12,
     "metadata": {},
     "output_type": "execute_result"
    }
   ],
   "source": [
    "acct2 = accts.pop()\n",
    "address2 = acct2.address\n",
    "address2"
   ]
  },
  {
   "cell_type": "markdown",
   "id": "fee263b6",
   "metadata": {},
   "source": [
    "# Check Balance"
   ]
  },
  {
   "cell_type": "code",
   "execution_count": 9,
   "id": "8ba0cb94",
   "metadata": {},
   "outputs": [
    {
     "name": "stdout",
     "output_type": "stream",
     "text": [
      "Account balance: 4000000001000000 microAlgos\n"
     ]
    }
   ],
   "source": [
    "from typing import Dict, Any\n",
    "\n",
    "account_info: Dict[str, Any] = algod_client.account_info(address2)\n",
    "print(f\"Account balance: {account_info.get('amount')} microAlgos\")"
   ]
  },
  {
   "cell_type": "markdown",
   "id": "3cfae9b9",
   "metadata": {},
   "source": [
    "# Make First Transaction"
   ]
  },
  {
   "cell_type": "code",
   "execution_count": 17,
   "id": "d2e7a707",
   "metadata": {},
   "outputs": [
    {
     "data": {
      "text/plain": [
       "<algosdk.transaction.PaymentTxn at 0x7ff39866e8c0>"
      ]
     },
     "execution_count": 17,
     "metadata": {},
     "output_type": "execute_result"
    }
   ],
   "source": [
    "params = algod_client.suggested_params()\n",
    "unsigned_txn = transaction.PaymentTxn(\n",
    "    sender=address,\n",
    "    sp=params,\n",
    "    receiver=address2,\n",
    "    amt=1000000,\n",
    "    note=b\"Hello World\",\n",
    ")\n",
    "unsigned_txn"
   ]
  },
  {
   "cell_type": "markdown",
   "id": "f1557d49",
   "metadata": {},
   "source": [
    "# Sign Transaction"
   ]
  },
  {
   "cell_type": "code",
   "execution_count": 18,
   "id": "83ecc05a",
   "metadata": {},
   "outputs": [
    {
     "data": {
      "text/plain": [
       "<algosdk.transaction.SignedTransaction at 0x7ff3aa363d30>"
      ]
     },
     "execution_count": 18,
     "metadata": {},
     "output_type": "execute_result"
    }
   ],
   "source": [
    "# sign the transaction\n",
    "signed_txn = unsigned_txn.sign(private_key)\n",
    "signed_txn"
   ]
  },
  {
   "cell_type": "markdown",
   "id": "99cd98fb",
   "metadata": {},
   "source": [
    "# Submit the Transaction"
   ]
  },
  {
   "cell_type": "code",
   "execution_count": 19,
   "id": "9ac5693f",
   "metadata": {},
   "outputs": [
    {
     "name": "stdout",
     "output_type": "stream",
     "text": [
      "Successfully submitted transaction with txID: JL6MK2LQWU5XP4AMBMGXHZ46TAZZVQNOIP2UUVKNO5CUCHCB5CZA\n",
      "Transaction information: {\n",
      "    \"confirmed-round\": 3,\n",
      "    \"pool-error\": \"\",\n",
      "    \"txn\": {\n",
      "        \"sig\": \"AJ5M5AO+ep6TIei1bTKM+6pIo0oDkqbrac+7l3ifPNtAiT6DZGPnBgLMWNglTGwwVg/gwpFeKndyNUdUtZVMAQ==\",\n",
      "        \"txn\": {\n",
      "            \"amt\": 1000000,\n",
      "            \"fee\": 1000,\n",
      "            \"fv\": 2,\n",
      "            \"gen\": \"sandnet-v1\",\n",
      "            \"gh\": \"EuOLWbil6m3MlKJH5C2JAZfd6KQBrSto1PsQFbplc2M=\",\n",
      "            \"lv\": 1002,\n",
      "            \"note\": \"SGVsbG8gV29ybGQ=\",\n",
      "            \"rcv\": \"A2243ENLO6PN4EAX3SM3K6KQ2OM66QUAP2Y4FSRY72TDVRQT6HWFK3X2NM\",\n",
      "            \"snd\": \"3O3IITONCTC24X77YG5AHR4NGUT7VFYTMJIYYIAL7CKOS6S4FVQM6MWFDA\",\n",
      "            \"type\": \"pay\"\n",
      "        }\n",
      "    }\n",
      "}\n",
      "Decoded note: b'Hello World'\n"
     ]
    }
   ],
   "source": [
    "import json\n",
    "from base64 import b64decode\n",
    "# submit the transaction and get back a transaction id\n",
    "txid = algod_client.send_transaction(signed_txn)\n",
    "print(\"Successfully submitted transaction with txID: {}\".format(txid))\n",
    "\n",
    "# wait for confirmation\n",
    "txn_result = transaction.wait_for_confirmation(algod_client, txid, 4)\n",
    "\n",
    "print(f\"Transaction information: {json.dumps(txn_result, indent=4)}\")\n",
    "print(f\"Decoded note: {b64decode(txn_result['txn']['txn']['note'])}\")"
   ]
  }
 ],
 "metadata": {
  "kernelspec": {
   "display_name": "Python 3 (ipykernel)",
   "language": "python",
   "name": "python3"
  },
  "language_info": {
   "codemirror_mode": {
    "name": "ipython",
    "version": 3
   },
   "file_extension": ".py",
   "mimetype": "text/x-python",
   "name": "python",
   "nbconvert_exporter": "python",
   "pygments_lexer": "ipython3",
   "version": "3.10.12"
  }
 },
 "nbformat": 4,
 "nbformat_minor": 5
}
